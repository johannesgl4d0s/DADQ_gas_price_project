{
 "cells": [
  {
   "cell_type": "code",
   "execution_count": 1,
   "metadata": {
    "collapsed": true
   },
   "outputs": [],
   "source": [
    "import os\n",
    "import pandas as pd"
   ]
  },
  {
   "cell_type": "code",
   "execution_count": 94,
   "outputs": [
    {
     "data": {
      "text/plain": "['.\\\\Data\\\\GasFutureHistory_CEGH_VTP_2020.xlsx',\n '.\\\\Data\\\\GasFutureHistory_CEGH_VTP_2021.xlsx',\n '.\\\\Data\\\\GasFutureHistory_CEGH_VTP_2022.xlsx',\n '.\\\\Data\\\\GasFutureHistory_THE_2021.xlsx',\n '.\\\\Data\\\\GasFutureHistory_THE_2022.xlsx',\n '.\\\\Data\\\\GasSpotHistory_CEGH_VTP_2020.xlsx',\n '.\\\\Data\\\\GasSpotHistory_CEGH_VTP_2021.xlsx',\n '.\\\\Data\\\\GasSpotHistory_CEGH_VTP_2022.xlsx',\n '.\\\\Data\\\\GasSpotHistory_THE_2021.xlsx',\n '.\\\\Data\\\\GasSpotHistory_THE_2022.xlsx',\n '.\\\\Data\\\\GasSpotHistory_TTF_2019.xlsx',\n '.\\\\Data\\\\GasSpotHistory_TTF_2020.xlsx',\n '.\\\\Data\\\\GasSpotHistory_TTF_2021.xlsx']"
     },
     "execution_count": 94,
     "metadata": {},
     "output_type": "execute_result"
    }
   ],
   "source": [
    "# folder path\n",
    "dir_path = r'.\\Data'\n",
    "\n",
    "def make_directory(path):\n",
    "    temp = []\n",
    "    # Iterate directory\n",
    "    for i in os.listdir(path):\n",
    "    # check if current path is a file\n",
    "        if os.path.isfile(os.path.join(dir_path, i)):\n",
    "                temp.append(os.path.join(dir_path, i))\n",
    "\n",
    "    return temp\n",
    "\n",
    "temp = make_directory(dir_path)\n",
    "\n",
    "temp"
   ],
   "metadata": {
    "collapsed": false
   }
  },
  {
   "cell_type": "code",
   "execution_count": 91,
   "outputs": [],
   "source": [
    "#empty dictionary for dataframes\n",
    "dict = {}\n",
    "# Iterate files\n",
    "for file in temp:\n",
    "    #check if files are Spot market relates\n",
    "    if 'Spot' in file:\n",
    "        df = pd.read_excel(file, header = 2, sheet_name= None)\n",
    "        #dynamicly create keys for dict\n",
    "        name_WAAP = 'df_WAAP_'+list(df.keys())[3][:4].strip()\n",
    "        name_DA = 'df_DA_'+list(df.keys())[3][:4].strip()\n",
    "        #Check if keys already in dict\n",
    "        if name_WAAP and name_DA not in dict.keys():\n",
    "            #create key and value pair for weighted average Price and Spot products\n",
    "            dict[name_DA] = df[list(df.keys())[3]].groupby(by=['Trading Date', 'Product']).sum()\n",
    "            dict[name_WAAP] = df['EGSI']\n",
    "        else:\n",
    "            #if keys already created join dataframes\n",
    "            dict[name_WAAP] = pd.concat([dict[name_WAAP],df['EGSI']], ignore_index=True)\n",
    "            dict[name_DA] = pd.concat([dict[name_DA],df[list(df.keys())[3]].groupby(by=['Trading Date', 'Product']).sum()], ignore_index=True)"
   ],
   "metadata": {
    "collapsed": false
   }
  },
  {
   "cell_type": "code",
   "execution_count": 85,
   "outputs": [
    {
     "data": {
      "text/plain": "dict_keys(['df_DA_CEGH', 'df_WAAP_CEGH', 'df_DA_THE', 'df_WAAP_THE', 'df_DA_TTF', 'df_WAAP_TTF'])"
     },
     "execution_count": 85,
     "metadata": {},
     "output_type": "execute_result"
    }
   ],
   "source": [
    "dict.keys()"
   ],
   "metadata": {
    "collapsed": false
   }
  },
  {
   "cell_type": "code",
   "execution_count": 80,
   "outputs": [],
   "source": [
    "if 'df_DA_CEGH' and 'df_WAAP_CEGH' not in dict.keys():\n",
    "    print('yes')"
   ],
   "metadata": {
    "collapsed": false
   }
  },
  {
   "cell_type": "code",
   "execution_count": 92,
   "outputs": [
    {
     "data": {
      "text/plain": "    Trading Date Delivery Start Delivery End    Price\n306   2020-01-02     2020-01-03   2020-01-04   12.574\n304   2020-01-03     2020-01-04   2020-01-06   12.752\n305   2020-01-03     2020-01-06   2020-01-07   12.749\n303   2020-01-06     2020-01-07   2020-01-08   13.157\n302   2020-01-07     2020-01-08   2020-01-09   12.624\n..           ...            ...          ...      ...\n627   2022-11-23     2022-11-24   2022-11-25  124.876\n626   2022-11-24     2022-11-25   2022-11-26  121.788\n625   2022-11-25     2022-11-28   2022-11-29  122.138\n624   2022-11-25     2022-11-26   2022-11-28  118.997\n623   2022-11-28     2022-11-29   2022-11-30  122.940\n\n[906 rows x 4 columns]",
      "text/html": "<div>\n<style scoped>\n    .dataframe tbody tr th:only-of-type {\n        vertical-align: middle;\n    }\n\n    .dataframe tbody tr th {\n        vertical-align: top;\n    }\n\n    .dataframe thead th {\n        text-align: right;\n    }\n</style>\n<table border=\"1\" class=\"dataframe\">\n  <thead>\n    <tr style=\"text-align: right;\">\n      <th></th>\n      <th>Trading Date</th>\n      <th>Delivery Start</th>\n      <th>Delivery End</th>\n      <th>Price</th>\n    </tr>\n  </thead>\n  <tbody>\n    <tr>\n      <th>306</th>\n      <td>2020-01-02</td>\n      <td>2020-01-03</td>\n      <td>2020-01-04</td>\n      <td>12.574</td>\n    </tr>\n    <tr>\n      <th>304</th>\n      <td>2020-01-03</td>\n      <td>2020-01-04</td>\n      <td>2020-01-06</td>\n      <td>12.752</td>\n    </tr>\n    <tr>\n      <th>305</th>\n      <td>2020-01-03</td>\n      <td>2020-01-06</td>\n      <td>2020-01-07</td>\n      <td>12.749</td>\n    </tr>\n    <tr>\n      <th>303</th>\n      <td>2020-01-06</td>\n      <td>2020-01-07</td>\n      <td>2020-01-08</td>\n      <td>13.157</td>\n    </tr>\n    <tr>\n      <th>302</th>\n      <td>2020-01-07</td>\n      <td>2020-01-08</td>\n      <td>2020-01-09</td>\n      <td>12.624</td>\n    </tr>\n    <tr>\n      <th>...</th>\n      <td>...</td>\n      <td>...</td>\n      <td>...</td>\n      <td>...</td>\n    </tr>\n    <tr>\n      <th>627</th>\n      <td>2022-11-23</td>\n      <td>2022-11-24</td>\n      <td>2022-11-25</td>\n      <td>124.876</td>\n    </tr>\n    <tr>\n      <th>626</th>\n      <td>2022-11-24</td>\n      <td>2022-11-25</td>\n      <td>2022-11-26</td>\n      <td>121.788</td>\n    </tr>\n    <tr>\n      <th>625</th>\n      <td>2022-11-25</td>\n      <td>2022-11-28</td>\n      <td>2022-11-29</td>\n      <td>122.138</td>\n    </tr>\n    <tr>\n      <th>624</th>\n      <td>2022-11-25</td>\n      <td>2022-11-26</td>\n      <td>2022-11-28</td>\n      <td>118.997</td>\n    </tr>\n    <tr>\n      <th>623</th>\n      <td>2022-11-28</td>\n      <td>2022-11-29</td>\n      <td>2022-11-30</td>\n      <td>122.940</td>\n    </tr>\n  </tbody>\n</table>\n<p>906 rows × 4 columns</p>\n</div>"
     },
     "execution_count": 92,
     "metadata": {},
     "output_type": "execute_result"
    }
   ],
   "source": [
    "dict['df_WAAP_CEGH'].sort_values('Trading Date')"
   ],
   "metadata": {
    "collapsed": false
   }
  },
  {
   "cell_type": "code",
   "execution_count": null,
   "outputs": [],
   "source": [],
   "metadata": {
    "collapsed": false
   }
  },
  {
   "cell_type": "code",
   "execution_count": 40,
   "outputs": [
    {
     "data": {
      "text/plain": "                      Settlement\\nPrice  Open Price  High Price  Low Price  \\\nTrading Date Product                                                         \n2021-01-01   GND1                 0.000      33.050      33.675     33.000   \n2021-01-02   GND1                 0.000      33.275      34.150     33.250   \n2021-01-03   GND1                 0.000      17.125      17.250     16.775   \n2021-01-04   GND1                18.111      18.475      18.700     17.850   \n2021-01-05   GND1                17.003      18.150      18.150     16.800   \n...                                 ...         ...         ...        ...   \n2021-12-29   GND1                89.258      94.200     103.750     86.000   \n2021-12-30   GND1                79.584     343.000     344.800    326.000   \n             GWE1                 0.000      88.500      88.500     80.000   \n2021-12-31   GND1                72.982     297.550     305.850    255.025   \n             GWE1                72.240      79.000      79.000     61.500   \n\n                      Last Price  Traded Lots  Traded Volume  Number of Trades  \nTrading Date Product                                                            \n2021-01-01   GND1         33.650       1042.0        25008.0              21.0  \n2021-01-02   GND1         33.850        873.0        20952.0              19.0  \n2021-01-03   GND1         17.000        557.0        13368.0              14.0  \n2021-01-04   GND1         18.000       8923.0       214152.0             176.0  \n2021-01-05   GND1         17.000      12150.0       291600.0             250.0  \n...                          ...          ...            ...               ...  \n2021-12-29   GND1         91.525      26481.0       635544.0             501.0  \n2021-12-30   GND1        328.000      28521.0       684504.0             610.0  \n             GWE1         81.000       1864.0       134208.0              34.0  \n2021-12-31   GND1        262.175      16546.0       397104.0             267.0  \n             GWE1         67.000      18910.0      1361520.0             330.0  \n\n[442 rows x 8 columns]",
      "text/html": "<div>\n<style scoped>\n    .dataframe tbody tr th:only-of-type {\n        vertical-align: middle;\n    }\n\n    .dataframe tbody tr th {\n        vertical-align: top;\n    }\n\n    .dataframe thead th {\n        text-align: right;\n    }\n</style>\n<table border=\"1\" class=\"dataframe\">\n  <thead>\n    <tr style=\"text-align: right;\">\n      <th></th>\n      <th></th>\n      <th>Settlement\\nPrice</th>\n      <th>Open Price</th>\n      <th>High Price</th>\n      <th>Low Price</th>\n      <th>Last Price</th>\n      <th>Traded Lots</th>\n      <th>Traded Volume</th>\n      <th>Number of Trades</th>\n    </tr>\n    <tr>\n      <th>Trading Date</th>\n      <th>Product</th>\n      <th></th>\n      <th></th>\n      <th></th>\n      <th></th>\n      <th></th>\n      <th></th>\n      <th></th>\n      <th></th>\n    </tr>\n  </thead>\n  <tbody>\n    <tr>\n      <th>2021-01-01</th>\n      <th>GND1</th>\n      <td>0.000</td>\n      <td>33.050</td>\n      <td>33.675</td>\n      <td>33.000</td>\n      <td>33.650</td>\n      <td>1042.0</td>\n      <td>25008.0</td>\n      <td>21.0</td>\n    </tr>\n    <tr>\n      <th>2021-01-02</th>\n      <th>GND1</th>\n      <td>0.000</td>\n      <td>33.275</td>\n      <td>34.150</td>\n      <td>33.250</td>\n      <td>33.850</td>\n      <td>873.0</td>\n      <td>20952.0</td>\n      <td>19.0</td>\n    </tr>\n    <tr>\n      <th>2021-01-03</th>\n      <th>GND1</th>\n      <td>0.000</td>\n      <td>17.125</td>\n      <td>17.250</td>\n      <td>16.775</td>\n      <td>17.000</td>\n      <td>557.0</td>\n      <td>13368.0</td>\n      <td>14.0</td>\n    </tr>\n    <tr>\n      <th>2021-01-04</th>\n      <th>GND1</th>\n      <td>18.111</td>\n      <td>18.475</td>\n      <td>18.700</td>\n      <td>17.850</td>\n      <td>18.000</td>\n      <td>8923.0</td>\n      <td>214152.0</td>\n      <td>176.0</td>\n    </tr>\n    <tr>\n      <th>2021-01-05</th>\n      <th>GND1</th>\n      <td>17.003</td>\n      <td>18.150</td>\n      <td>18.150</td>\n      <td>16.800</td>\n      <td>17.000</td>\n      <td>12150.0</td>\n      <td>291600.0</td>\n      <td>250.0</td>\n    </tr>\n    <tr>\n      <th>...</th>\n      <th>...</th>\n      <td>...</td>\n      <td>...</td>\n      <td>...</td>\n      <td>...</td>\n      <td>...</td>\n      <td>...</td>\n      <td>...</td>\n      <td>...</td>\n    </tr>\n    <tr>\n      <th>2021-12-29</th>\n      <th>GND1</th>\n      <td>89.258</td>\n      <td>94.200</td>\n      <td>103.750</td>\n      <td>86.000</td>\n      <td>91.525</td>\n      <td>26481.0</td>\n      <td>635544.0</td>\n      <td>501.0</td>\n    </tr>\n    <tr>\n      <th rowspan=\"2\" valign=\"top\">2021-12-30</th>\n      <th>GND1</th>\n      <td>79.584</td>\n      <td>343.000</td>\n      <td>344.800</td>\n      <td>326.000</td>\n      <td>328.000</td>\n      <td>28521.0</td>\n      <td>684504.0</td>\n      <td>610.0</td>\n    </tr>\n    <tr>\n      <th>GWE1</th>\n      <td>0.000</td>\n      <td>88.500</td>\n      <td>88.500</td>\n      <td>80.000</td>\n      <td>81.000</td>\n      <td>1864.0</td>\n      <td>134208.0</td>\n      <td>34.0</td>\n    </tr>\n    <tr>\n      <th rowspan=\"2\" valign=\"top\">2021-12-31</th>\n      <th>GND1</th>\n      <td>72.982</td>\n      <td>297.550</td>\n      <td>305.850</td>\n      <td>255.025</td>\n      <td>262.175</td>\n      <td>16546.0</td>\n      <td>397104.0</td>\n      <td>267.0</td>\n    </tr>\n    <tr>\n      <th>GWE1</th>\n      <td>72.240</td>\n      <td>79.000</td>\n      <td>79.000</td>\n      <td>61.500</td>\n      <td>67.000</td>\n      <td>18910.0</td>\n      <td>1361520.0</td>\n      <td>330.0</td>\n    </tr>\n  </tbody>\n</table>\n<p>442 rows × 8 columns</p>\n</div>"
     },
     "execution_count": 40,
     "metadata": {},
     "output_type": "execute_result"
    }
   ],
   "source": [
    "df['CEGH Day Ahead'].groupby(by=['Trading Date', 'Product']).sum()"
   ],
   "metadata": {
    "collapsed": false
   }
  },
  {
   "cell_type": "code",
   "execution_count": 9,
   "outputs": [
    {
     "data": {
      "text/plain": "<AxesSubplot:>"
     },
     "execution_count": 9,
     "metadata": {},
     "output_type": "execute_result"
    },
    {
     "data": {
      "text/plain": "<Figure size 432x288 with 1 Axes>",
      "image/png": "[encoded data removed]"
     },
     "metadata": {
      "needs_background": "light"
     },
     "output_type": "display_data"
    }
   ],
   "source": [
    "df['EGSI']['Price'].plot()"
   ],
   "metadata": {
    "collapsed": false
   }
  },
  {
   "cell_type": "code",
   "execution_count": null,
   "outputs": [],
   "source": [],
   "metadata": {
    "collapsed": false
   }
  }
 ],
 "metadata": {
  "kernelspec": {
   "display_name": "Python 3",
   "language": "python",
   "name": "python3"
  },
  "language_info": {
   "codemirror_mode": {
    "name": "ipython",
    "version": 2
   },
   "file_extension": ".py",
   "mimetype": "text/x-python",
   "name": "python",
   "nbconvert_exporter": "python",
   "pygments_lexer": "ipython2",
   "version": "2.7.6"
  }
 },
 "nbformat": 4,
 "nbformat_minor": 0
}
